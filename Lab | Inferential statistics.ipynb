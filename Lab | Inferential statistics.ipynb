{
 "cells": [
  {
   "cell_type": "markdown",
   "id": "63607da1",
   "metadata": {},
   "source": [
    "# Lab | Inferential statistics"
   ]
  },
  {
   "cell_type": "markdown",
   "id": "803a5b30",
   "metadata": {},
   "source": [
    "It is assumed that the mean systolic blood pressure is μ = 120 mm Hg. In the Honolulu Heart Study, a sample of n = 100 people had an average systolic blood pressure of 130.1 mm Hg with a standard deviation of 21.21 mm Hg. Is the group significantly different (with respect to systolic blood pressure!) from the regular population?"
   ]
  },
  {
   "cell_type": "markdown",
   "id": "ea1f98fe",
   "metadata": {},
   "source": [
    "Set up the hypothesis test."
   ]
  },
  {
   "cell_type": "markdown",
   "id": "a5d41f17",
   "metadata": {},
   "source": [
    "The null hypothesis is that the population mean is μ = 120 mm Hg, and the alternative hypothesis is that the population mean is different from 120 mm Hg."
   ]
  },
  {
   "cell_type": "markdown",
   "id": "b3688fcc",
   "metadata": {},
   "source": [
    "H0:μ = 120 mm Hg\n",
    "H1:μ != 120 mm Hg"
   ]
  },
  {
   "cell_type": "code",
   "execution_count": 4,
   "id": "1ac26792",
   "metadata": {},
   "outputs": [
    {
     "name": "stdout",
     "output_type": "stream",
     "text": [
      "4.761904761904759\n"
     ]
    }
   ],
   "source": [
    "import math\n",
    "\n",
    "x_sample_mean = 130.1\n",
    "u_population_mean = 120\n",
    "s = 21.21 # sample standard deviation\n",
    "n = 100 #sample size\n",
    "\n",
    "t = (x_sample_mean - u_population_mean) / (s / math.sqrt(n))\n",
    "print(t)\n"
   ]
  },
  {
   "cell_type": "code",
   "execution_count": null,
   "id": "e656d0fa",
   "metadata": {},
   "outputs": [],
   "source": []
  }
 ],
 "metadata": {
  "kernelspec": {
   "display_name": "Python 3 (ipykernel)",
   "language": "python",
   "name": "python3"
  },
  "language_info": {
   "codemirror_mode": {
    "name": "ipython",
    "version": 3
   },
   "file_extension": ".py",
   "mimetype": "text/x-python",
   "name": "python",
   "nbconvert_exporter": "python",
   "pygments_lexer": "ipython3",
   "version": "3.9.12"
  }
 },
 "nbformat": 4,
 "nbformat_minor": 5
}
